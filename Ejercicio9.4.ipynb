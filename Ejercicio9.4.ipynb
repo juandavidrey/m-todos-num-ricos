{
 "cells": [
  {
   "cell_type": "code",
   "execution_count": 1,
   "metadata": {
    "collapsed": false
   },
   "outputs": [],
   "source": [
    "import pylab as plt\n",
    "import math\n",
    "x1=[]\n",
    "x2=[]\n",
    "\n",
    "x3=[]\n",
    "x4=[]"
   ]
  },
  {
   "cell_type": "code",
   "execution_count": 2,
   "metadata": {
    "collapsed": false,
    "scrolled": true
   },
   "outputs": [
    {
     "name": "stdout",
     "output_type": "stream",
     "text": [
      "primera ecuacion\n",
      "-8 0\n",
      "-7.5 -1\n",
      "-7.0 -0.75\n",
      "-6.5 -0.5\n",
      "-6.0 -0.25\n",
      "-5.5 0.0\n",
      "-5.0 0.25\n",
      "-4.5 0.5\n",
      "-4.0 0.75\n",
      "-3.5 1.0\n",
      "-3.0 1.25\n",
      "-2.5 1.5\n",
      "-2.0 1.75\n",
      "-1.5 2.0\n",
      "-1.0 2.25\n",
      "-0.5 2.5\n",
      "0.0 2.75\n",
      "0.5 3.0\n",
      "1.0 3.25\n",
      "1.5 3.5\n",
      "2.0 3.75\n",
      "2.5 4.0\n",
      "3.0 4.25\n",
      "3.5 4.5\n",
      "4.0 4.75\n",
      "4.5 5.0\n",
      "5.0 5.25\n",
      "5.5 5.5\n",
      "6.0 5.75\n",
      "6.5 6.0\n",
      "7.0 6.25\n",
      "7.5 6.5\n",
      "8.0 6.75\n",
      "8.5 7.0\n",
      "9.0 7.25\n",
      "9.5 7.5\n",
      "10.0 7.75\n",
      "segunda ecuacion\n",
      "-8 0.0\n",
      "-7.5 7\n",
      "-7.0 6.91666666667\n",
      "-6.5 6.83333333333\n",
      "-6.0 6.75\n",
      "-5.5 6.66666666667\n",
      "-5.0 6.58333333333\n",
      "-4.5 6.5\n",
      "-4.0 6.41666666667\n",
      "-3.5 6.33333333333\n",
      "-3.0 6.25\n",
      "-2.5 6.16666666667\n",
      "-2.0 6.08333333333\n",
      "-1.5 6.0\n",
      "-1.0 5.91666666667\n",
      "-0.5 5.83333333333\n",
      "0.0 5.75\n",
      "0.5 5.66666666667\n",
      "1.0 5.58333333333\n",
      "1.5 5.5\n",
      "2.0 5.41666666667\n",
      "2.5 5.33333333333\n",
      "3.0 5.25\n",
      "3.5 5.16666666667\n",
      "4.0 5.08333333333\n",
      "4.5 5.0\n",
      "5.0 4.91666666667\n",
      "5.5 4.83333333333\n",
      "6.0 4.75\n",
      "6.5 4.66666666667\n",
      "7.0 4.58333333333\n",
      "7.5 4.5\n",
      "8.0 4.41666666667\n",
      "8.5 4.33333333333\n",
      "9.0 4.25\n",
      "9.5 4.16666666667\n",
      "10.0 4.08333333333\n"
     ]
    }
   ],
   "source": [
    "def priEcua():\n",
    "    x=-8\n",
    "    y=0    \n",
    "    while (x<=10):   \n",
    "        print x, y\n",
    "        y= 3 + ( x/2 )\n",
    "        x=x+0.5\n",
    "        x1.append(x)\n",
    "        x2.append(y)        \n",
    "        \n",
    "def segEcua():\n",
    "    xx=-8\n",
    "    yy=0.0\n",
    "    while (xx<=10): \n",
    "        print xx, yy\n",
    "        yy= (34 - xx )/6\n",
    "        xx=xx+0.5\n",
    "        x3.append(xx)\n",
    "        x4.append(yy)\n",
    "        \n",
    "print \"primera ecuacion\"\n",
    "priEcua()\n",
    "print \"segunda ecuacion\"\n",
    "segEcua()"
   ]
  },
  {
   "cell_type": "code",
   "execution_count": 3,
   "metadata": {
    "collapsed": false
   },
   "outputs": [],
   "source": [
    "uno = plt.plot(x1,x2,\"b\", label=\"primera ecuacion\")\n",
    "dos = plt.plot(x3,x4,\"y\", label=\"segunda ecuacion\")\n",
    "plt.title(\"Funcion\")   \n",
    "plt.xlabel(\"Valores en x\")\n",
    "plt.ylabel(\"Valores en y\")\n",
    "plt.xlim(-8, 12)\n",
    "plt.ylim(-2, 10)\n",
    "plt.grid(True)  \n",
    "plt.legend()\n",
    "plt.show()"
   ]
  },
  {
   "cell_type": "code",
   "execution_count": null,
   "metadata": {
    "collapsed": true
   },
   "outputs": [],
   "source": []
  }
 ],
 "metadata": {
  "kernelspec": {
   "display_name": "Python 2",
   "language": "python",
   "name": "python2"
  },
  "language_info": {
   "codemirror_mode": {
    "name": "ipython",
    "version": 2
   },
   "file_extension": ".py",
   "mimetype": "text/x-python",
   "name": "python",
   "nbconvert_exporter": "python",
   "pygments_lexer": "ipython2",
   "version": "2.7.10"
  }
 },
 "nbformat": 4,
 "nbformat_minor": 0
}
