{
 "cells": [
  {
   "cell_type": "code",
   "execution_count": 47,
   "metadata": {
    "collapsed": true
   },
   "outputs": [],
   "source": [
    "import pylab as plt\n",
    "import math\n",
    "x=0\n",
    "i=-2\n",
    "oor=[] #oordenadas\n",
    "f1=[]\n",
    "f2=[]"
   ]
  },
  {
   "cell_type": "code",
   "execution_count": 46,
   "metadata": {
    "collapsed": false
   },
   "outputs": [
    {
     "name": "stdout",
     "output_type": "stream",
     "text": [
      " 0 1.0 100.0 -76.32228356258963\n",
      " 1 0.36787944117144233 -171.8281828459045 35.13465685692193\n",
      " 2 0.6922006275553464 46.85363946133844 -22.050395334016283\n",
      " 3 0.5004735005636368 -38.30914659333314 11.755369518056566\n",
      " 4 0.6062435350855974 17.446789681151248 -6.894244501349456\n",
      " 5 0.545395785975027 -11.156622525381316 3.8345695714698382\n",
      " 6 0.5796123355033789 5.9033508144086735 -2.198570577001609\n",
      " 7 0.5601154613610891 -3.480866979624528 1.2391627940993233\n",
      " 8 0.571143115080177 1.9308039312598229 -0.7052582919877346\n",
      " 9 0.5648793473910495 -1.1088682420515694 0.39918353066479273\n",
      "10 0.5684287250290607 0.6244191191832817 -0.22665083969533611\n"
     ]
    }
   ],
   "source": [
    "def raiz(i,x):\n",
    "    ant=0\n",
    "    real=0.56714329\n",
    "    \n",
    "    while (i<=2):\n",
    "        f=(math.exp(-i))-i\n",
    "        oor.append(i)\n",
    "        f1.append(f)\n",
    "        i+=1\n",
    "        \n",
    "    plt.plot(oor,f1,color=\"k\")\n",
    "    plt.title(\"Funcion\")   \n",
    "    plt.xlabel(\"Valores en x\")\n",
    "    plt.ylabel(\"Exponencial\") \n",
    "    plt.grid(True)  \n",
    "    plt.show()\n",
    "        \n",
    "    while (10>=x):\n",
    "        datoac = math.exp(-ant)\n",
    "        oor.append(x)\n",
    "        f2.append(datoac)\n",
    "        eaprox=((datoac-ant)/datoac)*100 \n",
    "        erel=((real-datoac)/real)*100 \n",
    "        ant=datoac\n",
    "        print repr(x).rjust(2), repr(datoac).rjust(3), repr(eaprox).rjust(4),repr(erel).rjust(5)        \n",
    "        x+=1\n",
    "        \n",
    "raiz(i,x)"
   ]
  },
  {
   "cell_type": "code",
   "execution_count": null,
   "metadata": {
    "collapsed": true
   },
   "outputs": [],
   "source": []
  }
 ],
 "metadata": {
  "kernelspec": {
   "display_name": "Python 2",
   "language": "python",
   "name": "python2"
  },
  "language_info": {
   "codemirror_mode": {
    "name": "ipython",
    "version": 2
   },
   "file_extension": ".py",
   "mimetype": "text/x-python",
   "name": "python",
   "nbconvert_exporter": "python",
   "pygments_lexer": "ipython2",
   "version": "2.7.10"
  }
 },
 "nbformat": 4,
 "nbformat_minor": 0
}
