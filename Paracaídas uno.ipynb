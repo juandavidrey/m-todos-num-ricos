{
 "cells": [
  {
   "cell_type": "code",
   "execution_count": 1,
   "metadata": {
    "collapsed": true
   },
   "outputs": [],
   "source": [
    "import math"
   ]
  },
  {
   "cell_type": "code",
   "execution_count": 2,
   "metadata": {
    "collapsed": false
   },
   "outputs": [],
   "source": [
    "def mostrar(t,a,aa,e):\n",
    "    print \"%d | %f | %f | %f\" % (t,a,aa,e) "
   ]
  },
  {
   "cell_type": "code",
   "execution_count": 18,
   "metadata": {
    "collapsed": false
   },
   "outputs": [
    {
     "name": "stdout",
     "output_type": "stream",
     "text": [
      "t | analitica | aproximada | error\n",
      "0 | 1.000000 | 1.000000 | 1.000000\n",
      "1 | 8.953182 | 17.109793 | 0.888308\n",
      "2 | 16.404981 | 23.193788 | 0.454240\n",
      "3 | 22.607167 | 28.257540 | 0.274346\n",
      "4 | 27.769291 | 32.472138 | 0.185893\n",
      "5 | 32.065765 | 35.979979 | 0.133989\n",
      "6 | 35.641752 | 38.899580 | 0.100331\n",
      "7 | 38.618071 | 41.329585 | 0.077071\n",
      "8 | 41.095283 | 43.352096 | 0.060280\n",
      "9 | 43.157085 | 45.035447 | 0.047774\n",
      "10 | 44.873138 | 46.436512 | 0.038242\n",
      "11 | 46.301421 | 47.602628 | 0.030847\n",
      "12 | 47.490191 | 48.573196 | 0.025032\n",
      "13 | 48.479613 | 49.381006 | 0.020409\n",
      "14 | 49.303116 | 50.053352 | 0.016703\n",
      "15 | 49.988524 | 50.612951 | 0.013711\n",
      "16 | 50.558994 | 51.078709 | 0.011283\n",
      "17 | 51.033800 | 51.466363 | 0.009304\n",
      "18 | 51.428985 | 51.789010 | 0.007684\n",
      "19 | 51.757900 | 52.057551 | 0.006355\n",
      "20 | 52.031658 | 52.281060 | 0.005261\n",
      "21 | 52.259509 | 52.467088 | 0.004360\n",
      "22 | 52.449152 | 52.621921 | 0.003616\n",
      "23 | 52.606992 | 52.750789 | 0.003000\n",
      "24 | 52.738364 | 52.858047 | 0.002491\n",
      "25 | 52.847706 | 52.947319 | 0.002069\n",
      "26 | 52.938712 | 53.021621 | 0.001719\n",
      "27 | 53.014456 | 53.083462 | 0.001429\n",
      "28 | 53.077499 | 53.134933 | 0.001188\n",
      "29 | 53.129971 | 53.177773 | 0.000988\n",
      "30 | 53.173643 | 53.213429 | 0.000821\n",
      "31 | 53.209991 | 53.243106 | 0.000683\n",
      "32 | 53.240245 | 53.267806 | 0.000568\n"
     ]
    }
   ],
   "source": [
    "m = 68.1\n",
    "c = 12.5\n",
    "g = 9.8\n",
    "es = 0.5*(10**(2-5))\n",
    "n = 0\n",
    "aprox = 1.0\n",
    "aux = 0.0\n",
    "analitica = 1.0\n",
    "aproximada = 1.0\n",
    "x = 0.5\n",
    "print \"t | analítica | aproximada | error\"\n",
    "while (aprox>es):\n",
    "    mostrar(n,analitica,aproximada,aprox)\n",
    "    n = n+1\n",
    "    aux = analitica\n",
    "    analitica = ((g*m)/c) * (1-math.exp(-(c/m)*n))\n",
    "    aproximada = analitica + (g-(c/m)*analitica)\n",
    "    aprox = (analitica-aux) / analitica"
   ]
  }
 ],
 "metadata": {
  "kernelspec": {
   "display_name": "Python 2",
   "language": "python",
   "name": "python2"
  },
  "language_info": {
   "codemirror_mode": {
    "name": "ipython",
    "version": 2
   },
   "file_extension": ".py",
   "mimetype": "text/x-python",
   "name": "python",
   "nbconvert_exporter": "python",
   "pygments_lexer": "ipython2",
   "version": "2.7.10"
  }
 },
 "nbformat": 4,
 "nbformat_minor": 0
}
