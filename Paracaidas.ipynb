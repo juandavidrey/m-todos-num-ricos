{
 "cells": [
  {
   "cell_type": "code",
   "execution_count": null,
   "metadata": {
    "collapsed": true
   },
   "outputs": [],
   "source": [
    "import math\n",
    "import numpy as np\n",
    "import pylab as pl\n",
    "n=2\n",
    "es=0.5*(10**(-n))\n",
    "ea=1.0\n",
    "ant=0.0\n",
    "g=9.8\n",
    "m=68.1\n",
    "res=12.5\n",
    "t=1\n",
    "vt1=0 #velocidad ti + 1\n",
    "v=0\n",
    "tiempo = []\n",
    "analitica = []\n",
    "numerica = []"
   ]
  },
  {
   "cell_type": "code",
   "execution_count": 1,
   "metadata": {
    "collapsed": false
   },
   "outputs": [
    {
     "name": "stdout",
     "output_type": "stream",
     "text": [
      "1.0\n",
      "actual ------>8.953182 \n",
      "0.454240007015\n",
      "actual ------>16.404981 \n",
      "0.27434601299\n",
      "actual ------>22.607167 \n",
      "0.18589327571\n",
      "actual ------>27.769291 \n",
      "0.133989435069\n",
      "actual ------>32.065765 \n",
      "0.100331385913\n",
      "actual ------>35.641752 \n",
      "0.0770706388899\n",
      "actual ------>38.618071 \n",
      "0.0602797223006\n",
      "actual ------>41.095283 \n",
      "0.0477743518066\n",
      "actual ------>43.157085 \n",
      "0.03824231327\n",
      "actual ------>44.873138 \n",
      "0.0308474991522\n",
      "actual ------>46.301421 \n",
      "0.0250319133428\n",
      "actual ------>47.490191 \n",
      "0.0204090364953\n",
      "actual ------>48.479613 \n",
      "0.0167028646407\n",
      "actual ------>49.303116 \n",
      "0.0137113022179\n",
      "actual ------>49.988524 \n",
      "0.0112832517912\n",
      "actual ------>50.558994 \n",
      "0.00930375959819\n",
      "actual ------>51.033800 \n",
      "0.00768408433054\n",
      "actual ------>51.428985 \n",
      "0.00635487647726\n",
      "actual ------>51.757900 \n",
      "0.00526138130922\n",
      "actual ------>52.031658 \n",
      "0.00435999310243\n",
      "actual ------>52.259509 \n"
     ]
    }
   ],
   "source": [
    "while  abs(ea)  >= es :\n",
    "    actual = ( ( (g*m) /(res) ) * (1 - math.exp(-(res/m)*t) ) ) #+ ant\n",
    "    vt1 = v + ( (g-(res/m)*v) * ((t+1)-t) )\n",
    "    v = vt1\n",
    "    ea = ((actual-ant)/actual) #* 100\n",
    "    print ea\n",
    "    ant = actual\n",
    "    analitica.append(actual)\n",
    "    numerica.append(vt1)\n",
    "    tiempo.append(t)\n",
    "    t=t+1\n",
    "    print (\"actual ------>%f \") %actual\n",
    "    \n",
    "anlt = pl.plot(tiempo, analitica, \"r\")\n",
    "nmrc = pl.plot(tiempo, numerica, \"b\")\n",
    "pl.title(\"Velocidades de caida\")\n",
    "pl.xlabel(\"Tiempo\")\n",
    "pl.ylabel(\"Velocidad\")\n",
    "pl.xlim(-5.0, 25)\n",
    "pl.show()"
   ]
  },
  {
   "cell_type": "code",
   "execution_count": null,
   "metadata": {
    "collapsed": true
   },
   "outputs": [],
   "source": []
  }
 ],
 "metadata": {
  "kernelspec": {
   "display_name": "Python 2",
   "language": "python",
   "name": "python2"
  },
  "language_info": {
   "codemirror_mode": {
    "name": "ipython",
    "version": 2
   },
   "file_extension": ".py",
   "mimetype": "text/x-python",
   "name": "python",
   "nbconvert_exporter": "python",
   "pygments_lexer": "ipython2",
   "version": "2.7.10"
  }
 },
 "nbformat": 4,
 "nbformat_minor": 0
}
