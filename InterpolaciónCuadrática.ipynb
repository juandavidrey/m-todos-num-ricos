{
 "cells": [
  {
   "cell_type": "code",
   "execution_count": 26,
   "metadata": {
    "collapsed": false
   },
   "outputs": [
    {
     "name": "stdout",
     "output_type": "stream",
     "text": [
      "x:  1  funcion:  0.0\n",
      "x:  2  funcion:  0.5658443\n",
      "x:  3  funcion:  1.0279424\n",
      "x:  4  funcion:  1.3862943\n",
      "x:  5  funcion:  1.6409\n",
      "x:  6  funcion:  1.7917595\n"
     ]
    }
   ],
   "source": [
    "import math\n",
    "import numpy as np\n",
    "import pylab as pl\n",
    "\n",
    "x = [1,2,3,4,5,6]\n",
    "t = np.linspace(1.0, 6.0, num=100)\n",
    "lnx = []\n",
    "intercuad = []\n",
    "funlnx = []\n",
    "\n",
    "def interpolacion():\n",
    "    global lnx\n",
    "    global intercuad\n",
    "    xo = 1\n",
    "    x1 = 4\n",
    "    x2 = 6\n",
    "    \n",
    "    for xi in x:\n",
    "        puntos_funcion = math.log(xi)\n",
    "        if(xo<=6):\n",
    "            b0 = (math.log(xo))\n",
    "            b1 = ((math.log(x1)-math.log(xo)) / (x1-xo))\n",
    "            b2 = (((math.log(x2) - math.log(x1))/(x2-x1)) - ( (math.log(x1) - math.log(xo)) / (x1-xo)) ) / (x2-xo)\n",
    "            funcion = ((0.4620981*(xi-1)) - (0.0518731*(xi-1)*(xi-4)))\n",
    "            xo=xo+1            \n",
    "            x1=x1+1\n",
    "            x2=x2+1\n",
    "        print \"x: \", xi, \" funcion: \", funcion\n",
    "        lnx.append(puntos_funcion)\n",
    "        intercuad.append(funcion)\n",
    "        \n",
    "    \n",
    "def funcion():\n",
    "    global funlnx,t\n",
    "    for i in t:\n",
    "        funlnx.append(math.log(i))   \n",
    "        \n",
    "interpolacion()\n",
    "funcion()"
   ]
  },
  {
   "cell_type": "code",
   "execution_count": 28,
   "metadata": {
    "collapsed": false
   },
   "outputs": [],
   "source": [
    "pl.plot(x,intercuad,'bo',label=\"interpolacion cuadratica\")\n",
    "pl.plot(t,funlnx,label=\"ln x\")\n",
    "pl.plot(x,lnx)\n",
    "pl.legend()\n",
    "pl.grid(True)\n",
    "pl.show()"
   ]
  },
  {
   "cell_type": "code",
   "execution_count": null,
   "metadata": {
    "collapsed": true
   },
   "outputs": [],
   "source": []
  }
 ],
 "metadata": {
  "kernelspec": {
   "display_name": "Python 2",
   "language": "python",
   "name": "python2"
  },
  "language_info": {
   "codemirror_mode": {
    "name": "ipython",
    "version": 2
   },
   "file_extension": ".py",
   "mimetype": "text/x-python",
   "name": "python",
   "nbconvert_exporter": "python",
   "pygments_lexer": "ipython2",
   "version": "2.7.10"
  }
 },
 "nbformat": 4,
 "nbformat_minor": 0
}
