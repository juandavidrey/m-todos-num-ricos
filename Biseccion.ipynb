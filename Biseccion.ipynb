{
 "cells": [
  {
   "cell_type": "code",
   "execution_count": 59,
   "metadata": {
    "collapsed": false,
    "scrolled": false
   },
   "outputs": [],
   "source": [
    "import math\n",
    "import pylab as plt\n",
    "ea=[]\n",
    "er=[]\n",
    "oor=[] #oordenadas\n",
    "\n",
    "def f(x):\n",
    "    f=(math.exp(-x))-x\n",
    "    return f\n",
    "\n",
    "def raiz():\n",
    "    xl=-1\n",
    "    xu=1\n",
    "    xr=-1\n",
    "    xra=0\n",
    "    erraprox=100\n",
    "    errel=100\n",
    "    i=0\n",
    "    real=0.56714329\n",
    "    xr=((f(xl)+f(xu))/2)\n",
    "    while (erraprox>0.0005):\n",
    "        print \"error aproximado: \", erraprox, \"error relativo: \",errel\n",
    "        print \"xr: \",xr,\" xu: \",xu,\" xl: \",xl\n",
    "        if ((f(xl)*f(xr))<0):\n",
    "            xu=xr                 \n",
    "            xr=((xl+xu)/2)\n",
    "            print \"xu \",xu\n",
    "        elif ((f(xl)*f(xr))>0):\n",
    "            xl=xr          \n",
    "            xr=((xl+xu)/2)\n",
    "            print \"xl \",xl\n",
    "        erraprox=abs((xr-xra)/xr)\n",
    "        errel=abs((real-xr)/real)\n",
    "        ea.append(erraprox)\n",
    "        er.append(errel)\n",
    "        oor.append(i)\n",
    "        i=i+1\n",
    "        xra=xr\n",
    "    print \"xr: \",xr\n",
    "        "
   ]
  },
  {
   "cell_type": "code",
   "execution_count": 60,
   "metadata": {
    "collapsed": false
   },
   "outputs": [
    {
     "name": "stdout",
     "output_type": "stream",
     "text": [
      "error aproximado:  100 error relativo:  100\n",
      "xr:  1.54308063482  xu:  1  xl:  -1\n",
      "xu  1.54308063482\n",
      "error aproximado:  1.0 error relativo:  0.521213911554\n",
      "xr:  0.271540317408  xu:  1.54308063482  xl:  -1\n",
      "xl  0.271540317408\n",
      "error aproximado:  0.700719517126 error relativo:  0.599790550482\n",
      "xr:  0.907310476111  xu:  1.54308063482  xl:  0.271540317408\n",
      "xu  0.907310476111\n",
      "error aproximado:  0.539313509563 error relativo:  0.0392883194643\n",
      "xr:  0.58942539676  xu:  0.907310476111  xl:  0.271540317408\n",
      "xu  0.58942539676\n",
      "error aproximado:  0.369219208293 error relativo:  0.240962796045\n",
      "xr:  0.430482857084  xu:  0.58942539676  xl:  0.271540317408\n",
      "xl  0.430482857084\n",
      "error aproximado:  0.155840036667 error relativo:  0.10083723829\n",
      "xr:  0.509954126922  xu:  0.58942539676  xl:  0.430482857084\n",
      "xl  0.509954126922\n",
      "error aproximado:  0.0722873840436 error relativo:  0.030774459413\n",
      "xr:  0.549689761841  xu:  0.58942539676  xl:  0.509954126922\n",
      "xl  0.549689761841\n",
      "error aproximado:  0.0348828953938 error relativo:  0.00425693002563\n",
      "xr:  0.5695575793  xu:  0.58942539676  xl:  0.549689761841\n",
      "xu  0.5695575793\n",
      "error aproximado:  0.0177510517374 error relativo:  0.0132587646937\n",
      "xr:  0.55962367057  xu:  0.5695575793  xl:  0.549689761841\n",
      "xl  0.55962367057\n",
      "error aproximado:  0.00879744392753 error relativo:  0.00450091733403\n",
      "xr:  0.564590624935  xu:  0.5695575793  xl:  0.55962367057\n",
      "xl  0.564590624935\n",
      "error aproximado:  0.00437945794591 error relativo:  0.000121993654202\n",
      "xr:  0.567074102118  xu:  0.5695575793  xl:  0.564590624935\n",
      "xl  0.567074102118\n",
      "error aproximado:  0.0021849445366 error relativo:  0.00206746818571\n",
      "xr:  0.568315840709  xu:  0.5695575793  xl:  0.567074102118\n",
      "xu  0.568315840709\n",
      "error aproximado:  0.00109366706924 error relativo:  0.000972737265755\n",
      "xr:  0.567694971413  xu:  0.568315840709  xl:  0.567074102118\n",
      "xu  0.567694971413\n",
      "error aproximado:  0.000547132725143 error relativo:  0.000425371805776\n",
      "xr:  0.567384536765  xu:  0.567694971413  xl:  0.567074102118\n",
      "xu  0.567384536765\n",
      "xr:  0.567229319441\n"
     ]
    }
   ],
   "source": [
    "raiz()\n",
    "gbs = plt.plot(oor,ea, \"k\", label=\"Biseccion\")\n",
    "plt.title(\"Biseccion\")   \n",
    "plt.xlabel(\"Valores en x\")\n",
    "plt.ylabel(\"Error aproximado\") \n",
    "plt.grid(True)\n",
    "plt.legend()\n",
    "plt.show()"
   ]
  },
  {
   "cell_type": "code",
   "execution_count": null,
   "metadata": {
    "collapsed": true
   },
   "outputs": [],
   "source": []
  }
 ],
 "metadata": {
  "kernelspec": {
   "display_name": "Python 2",
   "language": "python",
   "name": "python2"
  },
  "language_info": {
   "codemirror_mode": {
    "name": "ipython",
    "version": 2
   },
   "file_extension": ".py",
   "mimetype": "text/x-python",
   "name": "python",
   "nbconvert_exporter": "python",
   "pygments_lexer": "ipython2",
   "version": "2.7.10"
  }
 },
 "nbformat": 4,
 "nbformat_minor": 0
}
