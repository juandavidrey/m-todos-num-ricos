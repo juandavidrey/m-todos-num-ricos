{
 "cells": [
  {
   "cell_type": "code",
   "execution_count": 32,
   "metadata": {
    "collapsed": false
   },
   "outputs": [
    {
     "name": "stdout",
     "output_type": "stream",
     "text": [
      "[4.0, -1.0, 5.0]\n",
      "[0.0, 3.75, -7.75]\n",
      "[0.0, 0.0, -3.2666666666666666]\n",
      "x 1 = 3.0 x 2 = 3.0 x 3 = -3.0\n"
     ]
    }
   ],
   "source": [
    "n=3\n",
    "factor=0.0\n",
    "def eliminacionGauss():\n",
    "    #Eliminación hacia adelante\n",
    "    coe=[[4.0,-1.0,5.0],[3.0,3.0,-4.0],[6.0,2.0,-3.0]]\n",
    "    res=[-6.0,30.0,33.0]\n",
    "    x=[0.0,0.0,0.0]    \n",
    "    for k in range(0,n-1):\n",
    "        for i in range(k+1,n):\n",
    "            factor=(coe[i][k])/(coe[k][k])\n",
    "            for j in range(k,n):\n",
    "                coe[i][j]=coe[i][j]-factor*coe[k][j]\n",
    "            res[i]=res[i]-factor*res[k]\n",
    "    print coe[0]\n",
    "    print coe[1]\n",
    "    print coe[2]\n",
    "    m=2\n",
    "    \n",
    "    #Sustitución hacia atrás\n",
    "    x[m]=res[m]/coe[m][m]\n",
    "    for i in range(n-1,-1,-1):\n",
    "        sum=res[i]\n",
    "        for j in range(i+1,n):\n",
    "            sum = sum - ((coe[i][j])*x[j])\n",
    "        x[i]=sum/coe[i][i]\n",
    "    while(i<len(x)):\n",
    "        print \"x\", i+1, \"=\",round(x[i]) , \n",
    "        i=i+1\n",
    "               \n",
    "eliminacionGauss()"
   ]
  }
 ],
 "metadata": {
  "kernelspec": {
   "display_name": "Python 2",
   "language": "python",
   "name": "python2"
  },
  "language_info": {
   "codemirror_mode": {
    "name": "ipython",
    "version": 2
   },
   "file_extension": ".py",
   "mimetype": "text/x-python",
   "name": "python",
   "nbconvert_exporter": "python",
   "pygments_lexer": "ipython2",
   "version": "2.7.10"
  }
 },
 "nbformat": 4,
 "nbformat_minor": 0
}
