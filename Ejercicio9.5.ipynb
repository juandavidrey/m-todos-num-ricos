{
 "cells": [
  {
   "cell_type": "code",
   "execution_count": 1,
   "metadata": {
    "collapsed": false
   },
   "outputs": [],
   "source": [
    "import pylab as plt\n",
    "import math\n",
    "x1=[]\n",
    "x2=[]\n",
    "x3=[]\n",
    "x4=[]"
   ]
  },
  {
   "cell_type": "code",
   "execution_count": 2,
   "metadata": {
    "collapsed": false,
    "scrolled": true
   },
   "outputs": [
    {
     "name": "stdout",
     "output_type": "stream",
     "text": [
      "primera ecuacion\n",
      "400 0\n",
      "400.5 56.0\n",
      "401.0 56.055\n",
      "401.5 56.11\n",
      "402.0 56.165\n",
      "402.5 56.22\n",
      "403.0 56.275\n",
      "403.5 56.33\n",
      "404.0 56.385\n",
      "404.5 56.44\n",
      "405.0 56.495\n",
      "405.5 56.55\n",
      "406.0 56.605\n",
      "406.5 56.66\n",
      "407.0 56.715\n",
      "407.5 56.77\n",
      "408.0 56.825\n",
      "408.5 56.88\n",
      "409.0 56.935\n",
      "409.5 56.99\n",
      "410.0 57.045\n",
      "segunda ecuacion\n",
      "400 0\n",
      "400.5 55\n",
      "401.0 56.0344827586\n",
      "401.5 56.091954023\n",
      "402.0 56.1494252874\n",
      "402.5 56.2068965517\n",
      "403.0 56.2643678161\n",
      "403.5 56.3218390805\n",
      "404.0 56.3793103448\n",
      "404.5 56.4367816092\n",
      "405.0 56.4942528736\n",
      "405.5 56.5517241379\n",
      "406.0 56.6091954023\n",
      "406.5 56.6666666667\n",
      "407.0 56.724137931\n",
      "407.5 56.7816091954\n",
      "408.0 56.8390804598\n",
      "408.5 56.8965517241\n",
      "409.0 56.9540229885\n",
      "409.5 57.0114942529\n",
      "410.0 57.0689655172\n"
     ]
    }
   ],
   "source": [
    "def priEcua():\n",
    "    x=400\n",
    "    y=0    \n",
    "    while (x<=410):   \n",
    "        print x, y\n",
    "        y= 12 + ( 0.11*x )\n",
    "        x=x+0.5\n",
    "        x1.append(x)\n",
    "        x2.append(y)        \n",
    "        \n",
    "def segEcua():\n",
    "    xx=400\n",
    "    yy=0\n",
    "    while (xx<=410): \n",
    "        print xx, yy\n",
    "        yy= 10 + ( (xx*10)/87 )\n",
    "        xx=xx+0.5\n",
    "        x3.append(xx)\n",
    "        x4.append(yy)\n",
    "        \n",
    "print \"primera ecuacion\"\n",
    "priEcua()\n",
    "print \"segunda ecuacion\"\n",
    "segEcua()"
   ]
  },
  {
   "cell_type": "code",
   "execution_count": 3,
   "metadata": {
    "collapsed": false
   },
   "outputs": [],
   "source": [
    "uno = plt.plot(x1,x2,\"b\", label=\"primera ecuacion\")\n",
    "dos = plt.plot(x3,x4,\"y\", label=\"segunda ecuacion\")\n",
    "plt.title(\"Funcion\")   \n",
    "plt.xlabel(\"Valores en x\")\n",
    "plt.ylabel(\"Valores en y\")\n",
    "plt.grid(True)  \n",
    "plt.legend()\n",
    "plt.show()"
   ]
  },
  {
   "cell_type": "markdown",
   "metadata": {
    "collapsed": true
   },
   "source": [
    "###b) \n",
    "$ \\text{ Como las pendientes de ambas ecuaciones son muy cercanas es complicado observar el punto de intersección. El valor a que equivalen las ecuaciones es relativamente grande, entonces su punto de intersección tendrá un valor grande también }$\n",
    "###c) \n",
    "$D = \n",
    "\\begin{vmatrix}\n",
    "-1.1 & 10\\\\\n",
    "-2 & 17.4\n",
    "\\end{vmatrix}\n",
    "$\n",
    "=\n",
    "$(-1.1)*17.4-(-2)*10 = 0.86$\n",
    "###d)\n",
    "$$\n",
    "x_1 = \\frac{(17.4)(120)-(10)(174)}{(-1.1)(17.4)-(10)(-2)} = \\frac{17400}{43} = 404.65 $$\n",
    "$$\n",
    "x_2 = \\frac{(-1.1)(17.4)-(-2)(120)}{(-1.1)(17.4)-(10)(-2)} = \\frac{2430}{43} = 56.51\n",
    "$$"
   ]
  },
  {
   "cell_type": "code",
   "execution_count": null,
   "metadata": {
    "collapsed": true
   },
   "outputs": [],
   "source": []
  }
 ],
 "metadata": {
  "kernelspec": {
   "display_name": "Python 2",
   "language": "python",
   "name": "python2"
  },
  "language_info": {
   "codemirror_mode": {
    "name": "ipython",
    "version": 2
   },
   "file_extension": ".py",
   "mimetype": "text/x-python",
   "name": "python",
   "nbconvert_exporter": "python",
   "pygments_lexer": "ipython2",
   "version": "2.7.10"
  }
 },
 "nbformat": 4,
 "nbformat_minor": 0
}
