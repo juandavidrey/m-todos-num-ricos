{
 "cells": [
  {
   "cell_type": "code",
   "execution_count": 1,
   "metadata": {
    "collapsed": true
   },
   "outputs": [],
   "source": [
    "import math\n",
    "xi = math.pi/4\n",
    "x = math.pi/3\n",
    "h = math.pi/12\n",
    "sin = math.sin(xi)\n",
    "cos = math.cos(xi)\n",
    "\n",
    "\n",
    "def f(x):\n",
    "    f = math.cos(x)\n",
    "    return f\n",
    "    \n",
    "def faprox(x,orden):\n",
    "    \n",
    "    real = (math.cos(math.pi/3))\n",
    "    if (orden==0):\n",
    "        faprox= cos\n",
    "        error = ((real-faprox)/real)\n",
    "        print \"error= \",error\n",
    "    elif (orden==1):\n",
    "        faprox= cos-(sin*h)\n",
    "        error = ((real-faprox)/real)\n",
    "        print \"error= \",error\n",
    "    elif (orden==2):\n",
    "        faprox= cos-(sin*h)-((cos*(h**2))/2)\n",
    "        error = ((real-faprox)/real)\n",
    "        print \"error= \",error   \n",
    "    elif (orden==3):\n",
    "        faprox= cos-(sin*h)-((cos*(h**2))/2)+((sin*(h**3))/6)\n",
    "        error = ((real-faprox)/real)\n",
    "        print \"error= \",error\n",
    "    elif (orden==4):\n",
    "        faprox= cos-(sin*h)-((cos*(h**2))/2)+((sin*(h**3))/6)+((cos*(h**4))/24)\n",
    "        error = ((real-faprox)/real)\n",
    "        print \"error= \",error\n",
    "    elif (orden==5):\n",
    "        faprox= cos-(sin*h)-((cos*(h**2))/2)+((sin*(h**3))/6)+((cos*(h**4))/24)-((sin*(h**5)/120))\n",
    "        error = ((real-faprox)/real)\n",
    "        print \"error= \",error\n",
    "    elif (orden==6):\n",
    "        faprox= cos-(sin*h)-((cos*(h**2))/2)+((sin*(h**3))/6)+((cos*(h**4))/24)-((sin*(h**5)/120))-((cos*(h**6))/720)\n",
    "        error = ((real-faprox)/real)\n",
    "        print \"error= \",error\n",
    "    else :\n",
    "        print \"orden no valido\"\n",
    "    return faprox\n"
   ]
  },
  {
   "cell_type": "code",
   "execution_count": 2,
   "metadata": {
    "collapsed": false
   },
   "outputs": [
    {
     "name": "stdout",
     "output_type": "stream",
     "text": [
      "orden de la función: \n",
      "0\n",
      "f(x):  0.5\n",
      "faprox(x):  error=  -0.414213562373\n",
      "0.707106781187\n"
     ]
    }
   ],
   "source": [
    "print \"orden de la función: \"\n",
    "orden = input()\n",
    "print \"f(x): \", f(x)\n",
    "print \"faprox(x): \", faprox(xi,orden)\n"
   ]
  },
  {
   "cell_type": "code",
   "execution_count": null,
   "metadata": {
    "collapsed": true
   },
   "outputs": [],
   "source": []
  }
 ],
 "metadata": {
  "kernelspec": {
   "display_name": "Python 2",
   "language": "python",
   "name": "python2"
  },
  "language_info": {
   "codemirror_mode": {
    "name": "ipython",
    "version": 2
   },
   "file_extension": ".py",
   "mimetype": "text/x-python",
   "name": "python",
   "nbconvert_exporter": "python",
   "pygments_lexer": "ipython2",
   "version": "2.7.10"
  }
 },
 "nbformat": 4,
 "nbformat_minor": 0
}
