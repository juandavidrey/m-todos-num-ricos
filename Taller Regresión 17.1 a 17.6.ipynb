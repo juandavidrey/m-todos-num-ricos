{
 "cells": [
  {
   "cell_type": "markdown",
   "metadata": {},
   "source": [
    "#17.1"
   ]
  },
  {
   "cell_type": "code",
   "execution_count": 3,
   "metadata": {
    "collapsed": false
   },
   "outputs": [
    {
     "name": "stdout",
     "output_type": "stream",
     "text": [
      "La media es de:  9.652\n",
      "La desviacion estandar es de:  0.703041013503\n",
      "La varianza es de:  0.494266666667\n",
      "El coeficiente de variacion es de:  7.28388948925\n",
      "El intervalo de confianza del 95 porciento para la media es de:  8.24591797299 11.058082027\n"
     ]
    }
   ],
   "source": [
    "import math\n",
    "import numpy as np\n",
    "import pylab as plt\n",
    "\n",
    "x = [8.8,9.5,9.8,9.4,10.0,9.4,10.1,9.2,11.3,9.4,10.0,10.4,7.9,10.4,9.8,9.8,9.5,8.9,8.8,10.6,10.1,9.5,9.6,10.2,8.9]\n",
    "total = 0.0\n",
    "datos = 0.0\n",
    "resultado = 0.0\n",
    "coef_var = 0.0\n",
    "\n",
    "def promedio():\n",
    "    xi = 0.0\n",
    "    valor = 0.0\n",
    "    total = 0.0\n",
    "    for i in range(25):\n",
    "        valor = x[i]\n",
    "        total = total + valor\n",
    "    xi = total/25\n",
    "    return xi\n",
    "\n",
    "def analisisEstadistico():    \n",
    "    desviacionEstandar = 0.0\n",
    "    media = promedio()\n",
    "    coeficienteVariacion = 0.0\n",
    "    total = 0.0\n",
    "    varianza = 0.0\n",
    "    for i in range(25):\n",
    "        valor = x[i] - media\n",
    "        exponente = valor**2\n",
    "        total = total + exponente   \n",
    "    varianza = total/(24)\n",
    "    desviacionEstandar = abs(varianza**0.5)\n",
    "    intervalo1 = media-(2*desviacionEstandar)\n",
    "    intervalo2 = media+(2*desviacionEstandar)\n",
    "    coeficienteVariacion = (desviacionEstandar/media)*100\n",
    "    print \"La media es de: \", media\n",
    "    print \"La desviacion estandar es de: \", desviacionEstandar\n",
    "    print \"La varianza es de: \", varianza\n",
    "    print \"El coeficiente de variacion es de: \", coeficienteVariacion\n",
    "    print \"El intervalo de confianza del 95 porciento para la media es de: \", intervalo1,intervalo2 \n",
    "    \n",
    "\n",
    "promedio()\n",
    "analisisEstadistico()"
   ]
  },
  {
   "cell_type": "markdown",
   "metadata": {},
   "source": [
    "#17.2"
   ]
  },
  {
   "cell_type": "code",
   "execution_count": 4,
   "metadata": {
    "collapsed": false
   },
   "outputs": [
    {
     "name": "stderr",
     "output_type": "stream",
     "text": [
      "C:\\Anaconda\\lib\\site-packages\\matplotlib\\axes\\_axes.py:475: UserWarning: No labelled objects found. Use label='...' kwarg on individual plots.\n",
      "  warnings.warn(\"No labelled objects found. \"\n"
     ]
    }
   ],
   "source": [
    "x = [8.8,9.5,9.8,9.4,10.0,9.4,10.1,9.2,11.3,9.4,10.0,10.4,7.9,10.4,9.8,9.8,9.5,8.9,8.8,10.6,10.1,9.5,9.6,10.2,8.9]\n",
    "plt.hist(x)\n",
    "plt.legend()\n",
    "plt.grid(True)\n",
    "plt.title(\"Histograma\")\n",
    "plt.xlabel(\"Intervalos\")\n",
    "plt.ylabel(\"Frecuencias\")\n",
    "plt.show()"
   ]
  },
  {
   "cell_type": "markdown",
   "metadata": {},
   "source": [
    "#17.3"
   ]
  },
  {
   "cell_type": "code",
   "execution_count": 6,
   "metadata": {
    "collapsed": false
   },
   "outputs": [
    {
     "name": "stdout",
     "output_type": "stream",
     "text": [
      "La media es de:  28.0035714286\n",
      "La desviacion estandar es de:  1.09729706395\n",
      "La varianza es de:  1.20406084656\n",
      "El coeficiente de variacion es de:  3.9184182873\n",
      "El intervalo de confianza del 90 porciento de los datos para la media es de:  24.4506100743 28.6087884219\n",
      "El 68 porciento de los datos es de:   26.9062743646 29.1008684925\n"
     ]
    }
   ],
   "source": [
    "x = [28.65,26.55,26.65,27.65,27.35,28.35,26.85,28.65,29.65,27.85,27.05,28.25,28.35,26.75,27.65,28.45,28.65,28.45,31.65,26.35,27.75,29.25,27.65,28.65,27.65,28.55,27.55,27.25]\n",
    "\n",
    "def promedio():\n",
    "    xi = 0.0\n",
    "    total = 0.0\n",
    "    for i in range(28):\n",
    "        valor = x[i]\n",
    "        total = total + valor\n",
    "    xi = total/28\n",
    "    return xi\n",
    "\n",
    "def analisisEstadistico():\n",
    "    desviacionEstandar = 0.0\n",
    "    media = promedio()\n",
    "    coeficienteVariacion = 0.0\n",
    "    total = 0.0\n",
    "    varianza = 0.0\n",
    "    for i in range(28):\n",
    "        valor = x[i] - media\n",
    "        exponente = valor**2\n",
    "        total = total + exponente  \n",
    "    varianza = total/(27)\n",
    "    desviacionEstandar = abs(varianza**0.5)\n",
    "    intervaloAnterior = ((media-(2*desviacionEstandar))*90)/95\n",
    "    intervaloSiguiente = ((media+(2*desviacionEstandar))*90)/95\n",
    "    intervaloAnterior1 = media-(desviacionEstandar)\n",
    "    intervaloSiguiente1 = media+(desviacionEstandar)\n",
    "    coeficienteVariacion = (desviacionEstandar/media)*100\n",
    "    print \"La media es de: \", media\n",
    "    print \"La desviacion estandar es de: \", desviacionEstandar\n",
    "    print \"La varianza es de: \", varianza\n",
    "    print \"El coeficiente de variacion es de: \", coeficienteVariacion\n",
    "    print \"El intervalo de confianza del 90 porciento de los datos para la media es de: \", intervaloAnterior,intervaloSiguiente\n",
    "    print \"El 68 porciento de los datos es de:  \",intervaloAnterior1,intervaloSiguiente1\n",
    "\n",
    "   \n",
    "plt.hist(x)\n",
    "plt.legend()\n",
    "plt.title(\"Histograma\")\n",
    "plt.xlabel(\"Intervalos\")\n",
    "plt.ylabel(\"Frecuencias\")\n",
    "plt.grid(True)\n",
    "plt.show()\n",
    "\n",
    "    \n",
    "promedio()\n",
    "analisisEstadistico()"
   ]
  },
  {
   "cell_type": "markdown",
   "metadata": {},
   "source": [
    "#17.4"
   ]
  },
  {
   "cell_type": "code",
   "execution_count": 10,
   "metadata": {
    "collapsed": false
   },
   "outputs": [
    {
     "name": "stdout",
     "output_type": "stream",
     "text": [
      "Regresion por minimos cuadrados (x,y): \n",
      "a1:  0.352469959947\n",
      "a0:  4.85153538051\n",
      "Error estándar de estimacion:  2.31099734984\n",
      "Coeficiente de correlacion :  0.914767284879\n",
      "Regresion por minimos cuadrados de (y,x): \n",
      "a1:  2.37410071942\n",
      "a0:  -9.96762589928\n",
      "Error estándar de estimacion:  7.22045786462\n",
      "Coeficiente de correlacion :  0.914767284879\n"
     ]
    }
   ],
   "source": [
    "x=[0.0,2.0,4.0,6.0,9.0,11.0,12.0,15.0,17.0,19.0]\n",
    "y=[5.0,6.0,7.0,6.0,9.0,8.0,7.0,10.0,12.0,12.0]\n",
    "\n",
    "def promedio(Arr):\n",
    "    n=len(Arr)\n",
    "    prom = 0.0\n",
    "    aux = 0.0\n",
    "    suma = 0.0\n",
    "    for i in range(n):\n",
    "        aux = Arr[i]\n",
    "        suma = suma + aux\n",
    "    prom = suma/n\n",
    "    return prom\n",
    "\n",
    "def regreLine(a,b,lbel1,lbel2,tite): \n",
    "    n=len(a)\n",
    "    xy=0.0\n",
    "    xr=0.0\n",
    "    y=0.0\n",
    "    x2=0.0 \n",
    "    y2=0.0\n",
    "    a1=0.0\n",
    "    a0=0.0\n",
    "    r=0.0\n",
    "    for i in range(0,len(a)):\n",
    "        xy=xy + a[i]*b[i]   \n",
    "        xr=xr+a[i]\n",
    "        y=y+b[i]    \n",
    "        x2=x2 + ((a[i])**2)\n",
    "        y2=y2 + ((b[i])**2)\n",
    "    \n",
    "    a1= (n*xy-xr*y)/(n*x2-xr**2)\n",
    "    a0= promedio(b) - a1*promedio(a)\n",
    "   \n",
    "    print \"a1: \",a1\n",
    "    print \"a0: \",a0\n",
    "    RL=[]\n",
    "    for i in range(0,len(a)):\n",
    "        f=a0 + a1*a[i]\n",
    "        RL.append(f)\n",
    "\n",
    "    plt.plot(a,RL,label=lbel1)\n",
    "    plt.plot(a,b,'o',label=lbel2)\n",
    "    plt.legend()\n",
    "    plt.title(tite)\n",
    "    plt.grid(True)\n",
    "    plt.show()\n",
    "    \n",
    "    r=(n*xy-xr*y)/(np.sqrt((n*x2-xr**2))*np.sqrt((n*y2-y**2)))\n",
    "    sr=0.0\n",
    "    for i in range(0,len(a)):\n",
    "        sr=sr + (b[i]-a0-a1*(i+1))**2\n",
    "    \n",
    "    syx=math.sqrt(sr/(n-2))\n",
    "    print \"Error estándar de estimacion: \", syx\n",
    "    print \"Coeficiente de correlacion : \", r\n",
    "    \n",
    "    \n",
    "print \"Regresion por minimos cuadrados (x,y): \"\n",
    "regreLine(x, y,\"Regresion\",\"Real\",\"Regresion por minimos cuadrados (x,y)\")\n",
    "print \"Regresion por minimos cuadrados de (y,x): \"\n",
    "regreLine(y, x,\"Regresion\",\"Real\",\"Regresion por minimos cuadrados (y,x)\")"
   ]
  },
  {
   "cell_type": "markdown",
   "metadata": {},
   "source": [
    "#17.6"
   ]
  },
  {
   "cell_type": "code",
   "execution_count": 15,
   "metadata": {
    "collapsed": false
   },
   "outputs": [],
   "source": [
    "xi = [2.0,4.0,6.0,7.0,10.0,11.0,14.0,17.0,20.0]\n",
    "yi = [1.0,2.0,5.0,2.0,8.0,7.0,6.0,9.0,12.0]\n",
    "n = 9\n",
    "l = []\n",
    "sumx = 0.0\n",
    "sumy = 0.0\n",
    "cuax = 0.0\n",
    "cuay = 0.0\n",
    "\n",
    "for i in range(n):\n",
    "    sumx = sumx + xi[i]\n",
    "    cuax = cuax + (xi[i]**2)\n",
    "    \n",
    "for j in range(n):\n",
    "    sumy = sumy + yi[j]\n",
    "    cuay = cuay + (yi[j]**2)  \n",
    "    \n",
    "def sumatoria():\n",
    "    suma = 0.0\n",
    "    aux = 0.0\n",
    "    for i in range(n):\n",
    "        aux = xi[i]*yi[i]\n",
    "        suma = suma + aux\n",
    "    return suma\n",
    "\n",
    "def promedioY():\n",
    "    y = 0.0\n",
    "    aux = 0.0\n",
    "    suma = 0.0\n",
    "    for i in range(n):\n",
    "        aux = yi[i]\n",
    "        suma = suma + aux\n",
    "    y = suma/n\n",
    "    return y\n",
    "\n",
    "def promedioX():\n",
    "    x = 0.0\n",
    "    aux = 0.0\n",
    "    suma = 0.0\n",
    "    for i in range(n):\n",
    "        aux = xi[i]\n",
    "        suma = suma + aux\n",
    "    x = suma/n\n",
    "    return x\n",
    "\n",
    "def dEstandar():\n",
    "    suma = 0.0\n",
    "    exp = 0.0\n",
    "    var = 0.0\n",
    "    dEst = 0.0\n",
    "    m = promedioY()\n",
    "    for i in range(n):\n",
    "        aux = yi[i] - m\n",
    "        exp = aux**2\n",
    "        suma = suma + exp    \n",
    "    var = suma/(n-1)\n",
    "    dEst = abs(var**0.5)\n",
    "    \n",
    "def regresion():\n",
    "    suma = 0.0\n",
    "    Sr = 0.0\n",
    "    suma = sumatoria()\n",
    "    a1 = ((n*suma) - (sumx*sumy))/((n*cuax) - (sumx**2))\n",
    "    a0 = promedioY() - (a1*promedioX())\n",
    "    for i in range(n):\n",
    "        y = a0 + a1*xi[i]\n",
    "        l.append(y)\n",
    "    \n",
    "dEstandar()\n",
    "regresion()\n",
    "\n",
    "plt.plot(xi, yi, 'o', label = \"Valores\")\n",
    "plt.plot(xi, l, label = \"Regresion Lineal\")\n",
    "plt.legend()\n",
    "plt.title(\"Ejercicio 17.4\")\n",
    "plt.xlabel(\"Valores X\")\n",
    "plt.ylabel(\"Valores Y\")\n",
    "plt.grid(True)\n",
    "plt.show()"
   ]
  },
  {
   "cell_type": "code",
   "execution_count": null,
   "metadata": {
    "collapsed": true
   },
   "outputs": [],
   "source": []
  }
 ],
 "metadata": {
  "kernelspec": {
   "display_name": "Python 2",
   "language": "python",
   "name": "python2"
  },
  "language_info": {
   "codemirror_mode": {
    "name": "ipython",
    "version": 2
   },
   "file_extension": ".py",
   "mimetype": "text/x-python",
   "name": "python",
   "nbconvert_exporter": "python",
   "pygments_lexer": "ipython2",
   "version": "2.7.10"
  }
 },
 "nbformat": 4,
 "nbformat_minor": 0
}
