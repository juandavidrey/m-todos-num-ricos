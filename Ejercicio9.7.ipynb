{
 "cells": [
  {
   "cell_type": "code",
   "execution_count": 1,
   "metadata": {
    "collapsed": false
   },
   "outputs": [],
   "source": [
    "import pylab as plt\n",
    "import math\n",
    "x1=[]\n",
    "x2=[]\n",
    "x3=[]\n",
    "x4=[]"
   ]
  },
  {
   "cell_type": "code",
   "execution_count": 2,
   "metadata": {
    "collapsed": false,
    "scrolled": true
   },
   "outputs": [
    {
     "name": "stdout",
     "output_type": "stream",
     "text": [
      "primera ecuacion\n",
      "-5 0\n",
      "-4.5 7.0\n",
      "-4.0 7.25\n",
      "-3.5 7.5\n",
      "-3.0 7.75\n",
      "-2.5 8.0\n",
      "-2.0 8.25\n",
      "-1.5 8.5\n",
      "-1.0 8.75\n",
      "-0.5 9.0\n",
      "0.0 9.25\n",
      "0.5 9.5\n",
      "1.0 9.75\n",
      "1.5 10.0\n",
      "2.0 10.25\n",
      "2.5 10.5\n",
      "3.0 10.75\n",
      "3.5 11.0\n",
      "4.0 11.25\n",
      "4.5 11.5\n",
      "5.0 11.75\n",
      "5.5 12.0\n",
      "6.0 12.25\n",
      "6.5 12.5\n",
      "7.0 12.75\n",
      "7.5 13.0\n",
      "8.0 13.25\n",
      "8.5 13.5\n",
      "9.0 13.75\n",
      "9.5 14.0\n",
      "10.0 14.25\n",
      "10.5 14.5\n",
      "11.0 14.75\n",
      "11.5 15.0\n",
      "12.0 15.25\n",
      "12.5 15.5\n",
      "13.0 15.75\n",
      "13.5 16.0\n",
      "14.0 16.25\n",
      "14.5 16.5\n",
      "15.0 16.75\n",
      "segunda ecuacion\n",
      "-5 0\n",
      "-4.5 6.85\n",
      "-4.0 7.105\n",
      "-3.5 7.36\n",
      "-3.0 7.615\n",
      "-2.5 7.87\n",
      "-2.0 8.125\n",
      "-1.5 8.38\n",
      "-1.0 8.635\n",
      "-0.5 8.89\n",
      "0.0 9.145\n",
      "0.5 9.4\n",
      "1.0 9.655\n",
      "1.5 9.91\n",
      "2.0 10.165\n",
      "2.5 10.42\n",
      "3.0 10.675\n",
      "3.5 10.93\n",
      "4.0 11.185\n",
      "4.5 11.44\n",
      "5.0 11.695\n",
      "5.5 11.95\n",
      "6.0 12.205\n",
      "6.5 12.46\n",
      "7.0 12.715\n",
      "7.5 12.97\n",
      "8.0 13.225\n",
      "8.5 13.48\n",
      "9.0 13.735\n",
      "9.5 13.99\n",
      "10.0 14.245\n",
      "10.5 14.5\n",
      "11.0 14.755\n",
      "11.5 15.01\n",
      "12.0 15.265\n",
      "12.5 15.52\n",
      "13.0 15.775\n",
      "13.5 16.03\n",
      "14.0 16.285\n",
      "14.5 16.54\n",
      "15.0 16.795\n"
     ]
    }
   ],
   "source": [
    "def priEcua():\n",
    "    x=-5\n",
    "    y=0    \n",
    "    while (x<=15):   \n",
    "        print x, y\n",
    "        y= 9.5 + ( 0.5*x )\n",
    "        x=x+0.5\n",
    "        x1.append(x)\n",
    "        x2.append(y)        \n",
    "        \n",
    "def segEcua():\n",
    "    xx=-5\n",
    "    yy=0\n",
    "    while (xx<=15): \n",
    "        print xx, yy\n",
    "        yy= 9.4 + ( xx*0.51 )\n",
    "        xx=xx+0.5\n",
    "        x3.append(xx)\n",
    "        x4.append(yy)\n",
    "        \n",
    "print \"primera ecuacion\"\n",
    "priEcua()\n",
    "print \"segunda ecuacion\"\n",
    "segEcua()"
   ]
  },
  {
   "cell_type": "code",
   "execution_count": 3,
   "metadata": {
    "collapsed": false
   },
   "outputs": [],
   "source": [
    "uno = plt.plot(x1,x2,\"b\", label=\"primera ecuacion\")\n",
    "dos = plt.plot(x3,x4,\"y\", label=\"segunda ecuacion\")\n",
    "plt.title(\"Funcion\")   \n",
    "plt.xlabel(\"Valores en x\")\n",
    "plt.ylabel(\"Valores en y\")\n",
    "plt.grid(True)  \n",
    "plt.legend()\n",
    "plt.show()"
   ]
  },
  {
   "cell_type": "markdown",
   "metadata": {
    "collapsed": true
   },
   "source": [
    "###b) \n",
    "$D = \n",
    "\\begin{vmatrix}\n",
    "0.5 & -1\\\\\n",
    "1.02 & -2\n",
    "\\end{vmatrix}\n",
    "$\n",
    "=\n",
    "$(0.5)*(-2)-(1.02)*(-1) = 0.02$\n",
    "###c) $ \\text{Como las pendientes de ambas ecuaciones son muy cercanas es complicado observar el punto de intersección. Por el determinante se puede concluir que las ecuaciones son linealmente independientes.}$\n",
    "###d)\n",
    "$$\n",
    "x_1 = \\frac{(-2)(-9.5)-(-1)(-18.8)}{(0.5)(-2)-(-1)(1.02)} = 10 $$\n",
    "$$\n",
    "x_2 = \\frac{(0.5)(-18.8)-(1.02)(-9.5)}{(0.5)(-2)-(-1)(1.02)} = 14.5\n",
    "$$\n",
    "###e)\n",
    "$$\n",
    "x_1 = \\frac{(-2)(-9.5)-(-1)(-18.8)}{(0.52)(-2)-(-1)(1.02)} = -10 $$\n",
    "$$\n",
    "x_2 = \\frac{(0.52)(-18.8)-(1.02)(-9.5)}{(0.52)(-2)-(-1)(1.02)} = 4.3\n",
    "$$\n",
    "$$ \\text{El valor de las incógnitas cambia significativamente, dependiendo de las cifras decimales de los coeficientes, los valores que satisfacen la ecuación no afectaran drásticamente el comportamiento de la función}$$"
   ]
  },
  {
   "cell_type": "code",
   "execution_count": null,
   "metadata": {
    "collapsed": true
   },
   "outputs": [],
   "source": []
  }
 ],
 "metadata": {
  "kernelspec": {
   "display_name": "Python 2",
   "language": "python",
   "name": "python2"
  },
  "language_info": {
   "codemirror_mode": {
    "name": "ipython",
    "version": 2
   },
   "file_extension": ".py",
   "mimetype": "text/x-python",
   "name": "python",
   "nbconvert_exporter": "python",
   "pygments_lexer": "ipython2",
   "version": "2.7.10"
  }
 },
 "nbformat": 4,
 "nbformat_minor": 0
}
