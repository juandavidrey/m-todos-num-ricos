{
 "cells": [
  {
   "cell_type": "code",
   "execution_count": 14,
   "metadata": {
    "collapsed": false
   },
   "outputs": [
    {
     "name": "stdout",
     "output_type": "stream",
     "text": [
      "[0.0, 0.6931471805599453, 1.0986122886681098, 1.3862943611198906, 1.6094379124341003]\n"
     ]
    }
   ],
   "source": [
    "import math\n",
    "\n",
    "import numpy as np\n",
    "import pylab as pl\n",
    "def x(n):\n",
    "    i=0\n",
    "    log=[]\n",
    "    while(i<n):\n",
    "        log.append(math.log(i+1))\n",
    "        i=i+1\n",
    "    return log\n",
    "\n",
    "def interpolacion(x):\n",
    "    i=0\n",
    "    j=0\n",
    "    f=[]\n",
    "    while(i+1<len(x)):\n",
    "        while (j<=i+1):\n",
    "            fint=(x[i]) + ( (x[i+1]-x[i]) / ((i+1)-i) )*(j-i)\n",
    "            vj.append(j)\n",
    "            j=j+0.25\n",
    "            f.append(fint)               \n",
    "        i=i+1\n",
    "    print len(vj), len(f)\n",
    "    return f\n",
    "    \n",
    "\n",
    "print x(5)\n",
    "vj=[]"
   ]
  },
  {
   "cell_type": "code",
   "execution_count": 15,
   "metadata": {
    "collapsed": false
   },
   "outputs": [
    {
     "name": "stdout",
     "output_type": "stream",
     "text": [
      "17 17\n"
     ]
    }
   ],
   "source": [
    "gx = pl.plot(x(5), \"bo\", label=\"ln\")\n",
    "gint = pl.plot(vj,interpolacion(x(5)), \"k\", label=\"interpolacion\")\n",
    "pl.title(\"interpolacion\")\n",
    "pl.xlabel(\"x\")\n",
    "pl.ylabel(\"ln x\")\n",
    "#pl.xlim(-3.0, 8)\n",
    "#pl.ylim(-50.0, 200)\n",
    "pl.legend()\n",
    "pl.grid(True)\n",
    "pl.show()"
   ]
  },
  {
   "cell_type": "code",
   "execution_count": null,
   "metadata": {
    "collapsed": true
   },
   "outputs": [],
   "source": []
  }
 ],
 "metadata": {
  "kernelspec": {
   "display_name": "Python 2",
   "language": "python",
   "name": "python2"
  },
  "language_info": {
   "codemirror_mode": {
    "name": "ipython",
    "version": 2
   },
   "file_extension": ".py",
   "mimetype": "text/x-python",
   "name": "python",
   "nbconvert_exporter": "python",
   "pygments_lexer": "ipython2",
   "version": "2.7.10"
  }
 },
 "nbformat": 4,
 "nbformat_minor": 0
}
