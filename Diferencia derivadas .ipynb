{
 "cells": [
  {
   "cell_type": "code",
   "execution_count": 12,
   "metadata": {
    "collapsed": true
   },
   "outputs": [],
   "source": [
    "import math\n",
    "\n",
    "def f(x):\n",
    "    f = (-0.1*x**4) - (0.15*x**3) - (0.5*x**2) - (0.25*x) + 1.2\n",
    "    return float(f)\n",
    "    \n",
    "\n",
    "def faprox(x , orden ):\n",
    "    if orden == 0:\n",
    "        faprox = (-0.1*x**4) - (0.15*x**3) - (0.5*x**2) - (0.25*x) + 1.2\n",
    "    elif orden == 1:\n",
    "        faprox = ((-0.1*(x+1)**4) - (0.15*(x+1)**3) - (0.5*(x+1)**2) - (0.25*(x+1)) + 1.2) + ((-0.4*(x+1)**3) - (0.45*(x+1)**2) - (x+1) - 0.25)\n",
    "    elif orden == 2:\n",
    "        faprox = ((-0.1*x**4) - (0.15*x**3) - (0.5*x**2) - (0.25*x) + 1.2) + ((-0.4*x**3) - (0.45*x**2) - x - 0.25) + (((-1.2*x**2)-(0.9*x)-1)/math.factorial(orden))  \n",
    "    elif orden == 3:\n",
    "        faprox = ((-0.1*x**4) - (0.15*x**3) - (0.5*x**2) - (0.25*x) + 1.2) + ((-0.4*x**3) - (0.45*x**2) - x - 0.25) + (((-1.2*x**2)-(0.9*x)-1)/math.factorial(orden-1)) + (((-2.4*x)-0.9)/math.factorial(orden))              \n",
    "    elif orden == 4:\n",
    "        faprox = ((-0.1*x**4) - (0.15*x**3) - (0.5*x**2) - (0.25*x) + 1.2) + ((-0.4*x**3) - (0.45*x**2) - x - 0.25) + (((-1.2*x**2)-(0.9*x)-1)/math.factorial(orden-1)) + (((-2.4*x)-0.9)/math.factorial(orden-2)) + (2.4/math.factorial(orden)) \n",
    "    else: \n",
    "        print \"orden no valido\"\n",
    "    return float(faprox)"
   ]
  },
  {
   "cell_type": "code",
   "execution_count": 13,
   "metadata": {
    "collapsed": true
   },
   "outputs": [],
   "source": [
    "xi = 0.5\n",
    "def difdivlast():\n",
    "    xl = xi-xi\n",
    "    last = (-0.1*xl**4) - (0.15*xl**3) - (0.5*xl**2) - (0.25*xl) + 1.2\n",
    "    error = (f(xi)-last)/f(xi)\n",
    "    print \"diferencia hacia atrás: \", last\n",
    "    print \"error: \", abs(error*100)\n",
    "    return last"
   ]
  },
  {
   "cell_type": "code",
   "execution_count": 14,
   "metadata": {
    "collapsed": true
   },
   "outputs": [],
   "source": [
    "\n",
    "def difdivnext():\n",
    "    xn = xi+xi\n",
    "    next = (-0.1*xn**4) - (0.15*xn**3) - (0.5*xn**2) - (0.25*xn) + 1.2\n",
    "    error = (f(xi)-next)/f(xi)\n",
    "    print \"diferencia hacia adelante: \", next\n",
    "    print \"error: \", abs(error*100)\n",
    "    return next"
   ]
  },
  {
   "cell_type": "code",
   "execution_count": 15,
   "metadata": {
    "collapsed": true
   },
   "outputs": [],
   "source": [
    "def difdivcnt():\n",
    "    xc=xi+xi\n",
    "    error = (difdivnext()-difdivlast())/xc\n",
    "    return error"
   ]
  },
  {
   "cell_type": "code",
   "execution_count": 16,
   "metadata": {
    "collapsed": false
   },
   "outputs": [
    {
     "name": "stdout",
     "output_type": "stream",
     "text": [
      "valor para x: \n",
      "0\n",
      "orden: \n",
      "00\n",
      "1.2\n",
      "1.2\n",
      "diferencia hacia atrás:  1.2\n",
      "error:  29.7297297297\n",
      "diferencia hacia adelante:  0.2\n",
      "error:  78.3783783784\n",
      "diferencia dividida centrada  diferencia hacia adelante:  0.2\n",
      "error:  78.3783783784\n",
      "diferencia hacia atrás:  1.2\n",
      "error:  29.7297297297\n",
      "100.0\n"
     ]
    }
   ],
   "source": [
    "print \"valor para x: \"\n",
    "x = float(input())\n",
    "print \"orden: \"\n",
    "orden = float(input())\n",
    "\n",
    "print f(x)    \n",
    "print faprox(x,orden)\n",
    "difdivlast()\n",
    "difdivnext()\n",
    "print \"diferencia dividida centrada \",abs(difdivcnt()*100)"
   ]
  },
  {
   "cell_type": "code",
   "execution_count": null,
   "metadata": {
    "collapsed": true
   },
   "outputs": [],
   "source": []
  }
 ],
 "metadata": {
  "kernelspec": {
   "display_name": "Python 2",
   "language": "python",
   "name": "python2"
  },
  "language_info": {
   "codemirror_mode": {
    "name": "ipython",
    "version": 2
   },
   "file_extension": ".py",
   "mimetype": "text/x-python",
   "name": "python",
   "nbconvert_exporter": "python",
   "pygments_lexer": "ipython2",
   "version": "2.7.10"
  }
 },
 "nbformat": 4,
 "nbformat_minor": 0
}
